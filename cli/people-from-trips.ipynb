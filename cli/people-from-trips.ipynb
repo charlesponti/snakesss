{
 "cells": [
  {
   "cell_type": "code",
   "execution_count": 34,
   "metadata": {},
   "outputs": [],
   "source": [
    "import pandas as pd"
   ]
  },
  {
   "cell_type": "code",
   "execution_count": 35,
   "metadata": {},
   "outputs": [
    {
     "name": "stdout",
     "output_type": "stream",
     "text": [
      "                                            name\n",
      "0                                           None\n",
      "1                                          Alice\n",
      "2                                            Bob\n",
      "3  Charlotte Sally Jane Williams, Mike Henderson\n"
     ]
    }
   ],
   "source": [
    "\"\"\"csv\n",
    "...rows, people\n",
    "      0, \"Alice\"\n",
    "      1, \"Bob\"\n",
    "      2, \"Charlotte Sally Williams, Mike Henderson\"\n",
    "      3, NULL\n",
    "\"\"\"\n",
    "\n",
    "people = pd.DataFrame(\n",
    "    [[None], [\"Alice\"], [\"Bob\"], [\"Charlotte Sally Jane Williams, Mike Henderson\"]], columns=[\"name\"]\n",
    ")\n",
    "print(people)"
   ]
  },
  {
   "cell_type": "code",
   "execution_count": 36,
   "metadata": {},
   "outputs": [
    {
     "name": "stdout",
     "output_type": "stream",
     "text": [
      "                                              name\n",
      "0                                             None\n",
      "1                                          [Alice]\n",
      "2                                            [Bob]\n",
      "3  [Charlotte Sally Jane Williams, Mike Henderson]\n"
     ]
    }
   ],
   "source": [
    "people[\"name\"] = people[\"name\"].str.split(\", \")\n",
    "print(people)"
   ]
  },
  {
   "cell_type": "code",
   "execution_count": 37,
   "metadata": {},
   "outputs": [
    {
     "name": "stdout",
     "output_type": "stream",
     "text": [
      "       first      middle       last\n",
      "0      Alice        None       None\n",
      "1        Bob        None       None\n",
      "2  Charlotte  Sally Jane   Williams\n",
      "3       Mike        None  Henderson\n"
     ]
    }
   ],
   "source": [
    "people_expanded = (\n",
    "    people.explode(\"name\")  # Expand the lists\n",
    "    .dropna()  # Remove NULL values\n",
    "    .drop_duplicates(subset=[\"name\"])  # Remove duplicate values\n",
    "    .reset_index(drop=True)\n",
    ")  # This will ensure sequential index numbers\n",
    "\n",
    "\n",
    "def parse_full_name(name):\n",
    "    if not name:\n",
    "        return None\n",
    "    parts = name.split()\n",
    "    if len(parts) == 1:\n",
    "        return {\"first\": parts[0], \"middle\": None, \"last\": None}\n",
    "    elif len(parts) == 2:\n",
    "        return {\"first\": parts[0], \"middle\": None, \"last\": parts[1]}\n",
    "    else:\n",
    "        return {\"first\": parts[0], \"middle\": \" \".join(parts[1:-1]), \"last\": parts[-1]}\n",
    "\n",
    "\n",
    "# Apply the name parsing and expand into separate columns\n",
    "name_components = people_expanded[\"name\"].apply(parse_full_name).apply(pd.Series)\n",
    "people_final = pd.concat([people_expanded, name_components], axis=1).drop(\"name\", axis=1)\n",
    "print(people_final)"
   ]
  }
 ],
 "metadata": {
  "kernelspec": {
   "display_name": ".venv",
   "language": "python",
   "name": "python3"
  },
  "language_info": {
   "codemirror_mode": {
    "name": "ipython",
    "version": 3
   },
   "file_extension": ".py",
   "mimetype": "text/x-python",
   "name": "python",
   "nbconvert_exporter": "python",
   "pygments_lexer": "ipython3",
   "version": "3.11.9"
  }
 },
 "nbformat": 4,
 "nbformat_minor": 2
}
